{
 "cells": [
  {
   "cell_type": "code",
   "execution_count": 4,
   "metadata": {},
   "outputs": [],
   "source": [
    "import numpy as np\n",
    "import pandas as pd\n",
    "\n",
    "import os, glob"
   ]
  },
  {
   "cell_type": "code",
   "execution_count": 2,
   "metadata": {},
   "outputs": [],
   "source": [
    "def create_sims(n, file):\n",
    "    \"\"\"\n",
    "    Parameters:\n",
    "        n (int): Number of SLiM simulations to create.\n",
    "        file (str): SLiM file location.\n",
    "\n",
    "    Returns:\n",
    "        arr (np.array): Array with the SLiM simulations frequency.\n",
    "        scs (np.array): Array with the SLiM simulations selection coeficients.\n",
    "    \"\"\"\n",
    "\n",
    "    arr = np.zeros((n,8,3))\n",
    "    scs = np.random.uniform(-0.1, 0.1, n)\n",
    "    df = pd.DataFrame([])\n",
    "\n",
    "    for ind, freq in enumerate(scs):\n",
    "        \n",
    "        i_str = f\"{freq:.5f}\"\n",
    "        rep_freqs = []\n",
    "\n",
    "        for rep in range(3):\n",
    "            \n",
    "            print(f\"Running SLiM with sc={i_str}, replicate={rep+1}\")\n",
    "            os.system(f\"slim -d sc={i_str} {file}\")\n",
    "\n",
    "            # Find all matching output files for this sc value\n",
    "            files = glob.glob(f\"./sims/freqs_{i_str}_*.txt\")\n",
    "            if not files:\n",
    "                print('A')\n",
    "                print(f\"No output file found for sc={i_str} replicate={rep+1}\")\n",
    "                rep_freqs.append(np.nan)\n",
    "                continue\n",
    "            latest_file = max(files, key=os.path.getmtime)\n",
    "\n",
    "            # Create DF\n",
    "            df[rep] = pd.read_csv(latest_file, header=None)\n",
    "\n",
    "        arr[ind]=df.to_numpy()\n",
    "\n",
    "    return arr, scs"
   ]
  },
  {
   "cell_type": "code",
   "execution_count": null,
   "metadata": {},
   "outputs": [],
   "source": [
    "arr, scs = create_sims(4, './2Hap_70G.slim')"
   ]
  },
  {
   "cell_type": "code",
   "execution_count": 12,
   "metadata": {},
   "outputs": [],
   "source": [
    "arr2 = np.random.binomial(20, arr)/20\n",
    "np.savez(\"train.npz\", arr2, scs)"
   ]
  },
  {
   "cell_type": "code",
   "execution_count": 7,
   "metadata": {},
   "outputs": [
    {
     "data": {
      "text/plain": [
       "(4000, 8, 3)"
      ]
     },
     "execution_count": 7,
     "metadata": {},
     "output_type": "execute_result"
    }
   ],
   "source": [
    "a = np.load(\"../data/train.npz\")\n",
    "a['arr_0'].shape"
   ]
  }
 ],
 "metadata": {
  "kernelspec": {
   "display_name": "base",
   "language": "python",
   "name": "python3"
  },
  "language_info": {
   "codemirror_mode": {
    "name": "ipython",
    "version": 3
   },
   "file_extension": ".py",
   "mimetype": "text/x-python",
   "name": "python",
   "nbconvert_exporter": "python",
   "pygments_lexer": "ipython3",
   "version": "3.11.5"
  }
 },
 "nbformat": 4,
 "nbformat_minor": 2
}
